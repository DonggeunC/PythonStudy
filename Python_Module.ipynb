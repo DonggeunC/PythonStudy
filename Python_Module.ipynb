{
 "cells": [
  {
   "cell_type": "code",
   "execution_count": 6,
   "id": "ce32ba98",
   "metadata": {},
   "outputs": [
    {
     "name": "stdout",
     "output_type": "stream",
     "text": [
      "김연아님 안녕하세요\n",
      "김연아님 만나서 반갑습니다\n"
     ]
    }
   ],
   "source": [
    "import greet as gr\n",
    "\n",
    "gr.hello('김연아')\n",
    "gr.niceMeet('김연아')"
   ]
  },
  {
   "cell_type": "code",
   "execution_count": 9,
   "id": "cc0f0a78",
   "metadata": {},
   "outputs": [
    {
     "name": "stdout",
     "output_type": "stream",
     "text": [
      "김연아님 안녕하세요\n",
      "김연아님 만나서 반갑습니다\n"
     ]
    }
   ],
   "source": [
    "from greet import hello, niceMeet  #greet 모듈로 부터 hello와 niceMeet함수를 import함 greet.을 사용안해도 되도록 함\n",
    "\n",
    "hello('김연아')\n",
    "niceMeet('김연아')"
   ]
  },
  {
   "cell_type": "code",
   "execution_count": 29,
   "id": "49e2d4f7",
   "metadata": {},
   "outputs": [
    {
     "name": "stdout",
     "output_type": "stream",
     "text": [
      "내림 : 3\n",
      "올림 : 4\n",
      "반올림 : 4\n",
      "팩토리얼 : 24\n"
     ]
    }
   ],
   "source": [
    "import math\n",
    "\n",
    "a = 3.6\n",
    "print('내림 : {}'.format(math.floor(a)))\n",
    "print('올림 : {}'.format(math.ceil(a)))\n",
    "print('반올림 : {}'.format(round(a)))\n",
    "print('팩토리얼 : {}'.format(math.factorial(round(a))))"
   ]
  },
  {
   "cell_type": "code",
   "execution_count": 24,
   "id": "13c678ab",
   "metadata": {},
   "outputs": [
    {
     "name": "stdout",
     "output_type": "stream",
     "text": [
      "0.7071067811865476\n",
      "6.123233995736766e-17\n",
      "0.9999999999999999\n"
     ]
    }
   ],
   "source": [
    "b = math.sin(math.pi/4)\n",
    "print(b)\n",
    "b=math.cos(math.pi/2)\n",
    "print(b)\n",
    "b=math.tan(math.pi/4)\n",
    "print(b)"
   ]
  },
  {
   "cell_type": "code",
   "execution_count": 23,
   "id": "6e5daf96",
   "metadata": {},
   "outputs": [
    {
     "name": "stdout",
     "output_type": "stream",
     "text": [
      "8.0\n",
      "12.0\n",
      "3.0\n"
     ]
    }
   ],
   "source": [
    "c = math.pow(2,3)\n",
    "print(c)\n",
    "c= math.sqrt(144)\n",
    "print(c)\n",
    "c=math.log10(1000)\n",
    "print(c)"
   ]
  },
  {
   "cell_type": "code",
   "execution_count": 31,
   "id": "29e8f92e",
   "metadata": {},
   "outputs": [
    {
     "name": "stdout",
     "output_type": "stream",
     "text": [
      "6\n",
      "6\n"
     ]
    }
   ],
   "source": [
    "import random\n",
    "\n",
    "x = random.randint(1,6)\n",
    "print(x)\n",
    "y= random.randint(1,6)\n",
    "print(y)"
   ]
  },
  {
   "cell_type": "code",
   "execution_count": 38,
   "id": "9795591d",
   "metadata": {},
   "outputs": [
    {
     "name": "stdout",
     "output_type": "stream",
     "text": [
      "나 : 바위\n",
      "컴퓨터 : 가위\n",
      "당신이 이겼습니다\n",
      "계속하려면 y를 누르세요 : y\n",
      "나 : 보\n",
      "컴퓨터 : 바위\n",
      "당신이 이겼습니다.\n",
      "계속하려면 y를 누르세요 : y\n",
      "나 : 가위\n",
      "컴퓨터 : 보\n",
      "당신이 이겼습니다\n",
      "계속하려면 y를 누르세요 : y\n",
      "나 : 가위\n",
      "컴퓨터 : 보\n",
      "당신이 이겼습니다\n",
      "계속하려면 y를 누르세요 : y\n",
      "나 : 가위\n",
      "컴퓨터 : 바위\n",
      "당신이 졌습니다.\n",
      "계속하려면 y를 누르세요 : y\n",
      "나 : 가위\n",
      "컴퓨터 : 가위\n",
      "무승부 입니다\n",
      "계속하려면 y를 누르세요 : y\n",
      "나 : 바위\n",
      "컴퓨터 : 보\n",
      "당신이 졌습니다.\n",
      "계속하려면 y를 누르세요 : n\n"
     ]
    }
   ],
   "source": [
    "import random\n",
    "\n",
    "while True:\n",
    "    humnum = input(\"나 : \")\n",
    "    comnum = random.randint(1,3)    #1.가위 , 2.바위, 3.보\n",
    "    compri =''\n",
    "    if comnum == 1:\n",
    "        compri = '가위'\n",
    "    elif comnum == 2:\n",
    "        compri = '바위'\n",
    "    elif comnum == 3:\n",
    "        compri ='보'\n",
    "    print('컴퓨터 : {}'.format(compri))\n",
    "    if humnum == compri:\n",
    "        print('무승부 입니다')\n",
    "    else:\n",
    "        if humnum == '가위':\n",
    "            if comnum == 2:\n",
    "                print('당신이 졌습니다.')\n",
    "            elif comnum == 3:\n",
    "                print('당신이 이겼습니다')\n",
    "        elif humnum == '바위':\n",
    "            if compri== '가위':\n",
    "                print('당신이 이겼습니다')\n",
    "            elif compri == '보':\n",
    "                print('당신이 졌습니다.')\n",
    "        elif humnum == '보':\n",
    "            if compri == '가위':\n",
    "                print('당신이 졌습니다.')\n",
    "            elif compri == '바위':\n",
    "                print('당신이 이겼습니다.')\n",
    "    x = input(\"계속하려면 y를 누르세요, 종료 시에 n을 넣어주세요 : \")\n",
    "    if x=='y':\n",
    "        continue\n",
    "    elif x=='n':\n",
    "        break\n",
    "    else:\n",
    "        print('잘못된 입력')"
   ]
  },
  {
   "cell_type": "markdown",
   "id": "80d2b4b9",
   "metadata": {},
   "source": [
    "# datetime module"
   ]
  },
  {
   "cell_type": "code",
   "execution_count": 1,
   "id": "38570031",
   "metadata": {},
   "outputs": [
    {
     "name": "stdout",
     "output_type": "stream",
     "text": [
      "2023-03-16 13:25:23.717200\n",
      "<class 'datetime.datetime'>\n",
      "year is 2023\n",
      "month is 3\n",
      "day is 16\n",
      "hour is 13\n",
      "minute is 25\n",
      "second is 23\n",
      "microsecond is 717.200\n",
      "======================================================================\n",
      "year is 2023\n",
      "month is 3\n",
      "day is 16\n",
      "hour is 13\n",
      "minute is 25\n",
      "second is 27\n",
      "microsecond is 726.143\n",
      "======================================================================\n",
      "now - pre time is : 0:00:04.008943\n"
     ]
    }
   ],
   "source": [
    "from datetime import datetime\n",
    "import time\n",
    "\n",
    "today = datetime.now()\n",
    "print(today)\n",
    "print(type(today))\n",
    "print('year is {}'.format(today.year))\n",
    "print('month is {}'.format(today.month))\n",
    "print('day is {}'.format(today.day))\n",
    "print('hour is {}'.format(today.hour))\n",
    "print('minute is {}'.format(today.minute))\n",
    "print('second is {}'.format(today.second))\n",
    "print('microsecond is {:.3f}'.format(today.microsecond/1000))\n",
    "print(\"=\"* 70)\n",
    "\n",
    "time.sleep(4)\n",
    "\n",
    "now = datetime.now()\n",
    "print('year is {}'.format(now.year))\n",
    "print('month is {}'.format(now.month))\n",
    "print('day is {}'.format(now.day))\n",
    "print('hour is {}'.format(now.hour))\n",
    "print('minute is {}'.format(now.minute))\n",
    "print('second is {}'.format(now.second))\n",
    "print('microsecond is {:.3f}'.format(now.microsecond/1000))\n",
    "\n",
    "print('='*70)\n",
    "print('now - pre time is : {}'.format(now - today))\n"
   ]
  },
  {
   "cell_type": "code",
   "execution_count": 4,
   "id": "e9a53921",
   "metadata": {},
   "outputs": [
    {
     "name": "stdout",
     "output_type": "stream",
     "text": [
      "2023/03/16/ 13:30:30\n"
     ]
    }
   ],
   "source": [
    "from datetime import datetime\n",
    "import time\n",
    "\n",
    "today = datetime.now()\n",
    "today_str = today.strftime('%Y/%m/%d/ %H:%M:%S')\n",
    "print(today_str)"
   ]
  },
  {
   "cell_type": "markdown",
   "id": "1398dc71",
   "metadata": {},
   "source": [
    "# Logger Function 작성\n",
    "형식 ...... csv  \n",
    "    시간                        사람      AI     결과  \n",
    "    2023-03-16 13:28:27.220282  가위      보     사람.승리  \n",
    "    2023-03-16 13:28:28.220282  바위      바위   무승부  \n",
    "    2023-03-16 13:28:29.220282  보        가위   AI.승리  \n",
    "    2023-03-16 13:28:30.220282  가위      보     사람.승리  \n",
    "    \n",
    "    file i/o  \n",
    "    function (사람.AI)  \n",
    "        return 승리자  \n",
    "    \n",
    "    while  \n",
    "        input 사람  \n",
    "        random AI  \n",
    "        call function()  \n",
    "        save log  "
   ]
  },
  {
   "cell_type": "code",
   "execution_count": 22,
   "id": "b0479814",
   "metadata": {},
   "outputs": [],
   "source": [
    "from datetime import datetime\n",
    "import time , random\n",
    "\n",
    "def rps(human, ai):\n",
    "    humstr = '사람'\n",
    "    aistr = 'AI'\n",
    "    draw = '무승부'\n",
    "    compri =''\n",
    "    if ai == 1:\n",
    "        compri = '가위'\n",
    "    elif ai == 2:\n",
    "        compri = '바위'\n",
    "    elif ai == 3:\n",
    "        compri ='보'\n",
    "    print('컴퓨터 : {}'.format(compri))\n",
    "    if human == compri:\n",
    "        return draw\n",
    "    else:\n",
    "        if (human == '가위' and ai == 3) or (human == '바위' and ai == 1) or (human == '보' and ai == 2):\n",
    "            return humstr\n",
    "        else:\n",
    "            return aistr"
   ]
  },
  {
   "cell_type": "code",
   "execution_count": 23,
   "id": "0801b98a",
   "metadata": {},
   "outputs": [
    {
     "name": "stdout",
     "output_type": "stream",
     "text": [
      "가위,바위,보 입력, 0 입력 시 종료 : 가위\n",
      "컴퓨터 : 보\n",
      "가위,바위,보 입력, 0 입력 시 종료 : 바위\n",
      "컴퓨터 : 보\n",
      "가위,바위,보 입력, 0 입력 시 종료 : 보\n",
      "컴퓨터 : 보\n",
      "가위,바위,보 입력, 0 입력 시 종료 : 가위\n",
      "컴퓨터 : 보\n",
      "가위,바위,보 입력, 0 입력 시 종료 : 바위\n",
      "컴퓨터 : 가위\n",
      "가위,바위,보 입력, 0 입력 시 종료 : 보\n",
      "컴퓨터 : 가위\n",
      "가위,바위,보 입력, 0 입력 시 종료 : 0\n",
      "종료\n"
     ]
    }
   ],
   "source": [
    "file = open('logging.csv','w')\n",
    "title = '시간,사람,AI,승리자\\n'\n",
    "file.write(title)\n",
    "\n",
    "while True:\n",
    "    human = input(\"가위,바위,보 입력, 0 입력 시 종료 : \")\n",
    "    if human == '0':\n",
    "        print('종료')\n",
    "        break\n",
    "    elif human != '가위' and human != '바위' and human != '보':\n",
    "        print('다시 해')\n",
    "        continue\n",
    "    ai = random.randint(1,3)\n",
    "    aistr = ''\n",
    "    res = rps(human, ai)\n",
    "    if ai == 1:\n",
    "        aistr = '가위'\n",
    "    elif ai == 2:\n",
    "        aistr = '바위'\n",
    "    else:\n",
    "        aistr = '보'\n",
    "    today = datetime.now()\n",
    "    data =' '+str(today)+','+str(human)+','+aistr+','+res+'\\n'\n",
    "    file.write(data)\n",
    "\n",
    "file.close()    "
   ]
  },
  {
   "cell_type": "markdown",
   "id": "b8ca4d71",
   "metadata": {},
   "source": [
    "# 코딩...? 제일 먼저 무엇을 시작해야 하나요?"
   ]
  },
  {
   "cell_type": "code",
   "execution_count": 38,
   "id": "02892323",
   "metadata": {},
   "outputs": [],
   "source": [
    "file = open('log.csv','w')\n",
    "file.write('시간,사람,AI,승리\\n')\n",
    "file.close()"
   ]
  },
  {
   "cell_type": "code",
   "execution_count": 39,
   "id": "d41b15a9",
   "metadata": {},
   "outputs": [
    {
     "name": "stdout",
     "output_type": "stream",
     "text": [
      "가위,바위,보가위\n",
      "가위,바위,보바위\n",
      "가위,바위,보보\n",
      "가위,바위,보rkdnl\n",
      "다시\n",
      "가위,바위,보바위\n",
      "가위,바위,보보\n",
      "가위,바위,보가위\n",
      "가위,바위,보0\n",
      "종료\n"
     ]
    }
   ],
   "source": [
    "from datetime import datetime\n",
    "import time , random\n",
    "\n",
    "file = open('log.csv','a')\n",
    "\n",
    "while True:\n",
    "    person = input('가위,바위,보 ')\n",
    "    if person == '0':\n",
    "        print('종료')\n",
    "        break;\n",
    "    elif not(person == '가위' or person == '바위' or person == '보'):\n",
    "        print('다시')\n",
    "        continue\n",
    "    ai = random.randint(1,3)\n",
    "    if ai == 1:\n",
    "        compri = '가위'\n",
    "    elif ai == 2:\n",
    "        compri = '바위'\n",
    "    elif ai == 3:\n",
    "        compri ='보'   \n",
    "    if person == compri:\n",
    "        winner = '무승부'\n",
    "    else:\n",
    "        if (person == '가위' and compri == '보') or (person == '바위' and compri == '가위') or (person == '보' and compri == '바위'):\n",
    "            winner = \"사람\"\n",
    "        else:\n",
    "            winner = \"AI\"\n",
    "    today = datetime.now()\n",
    "    file.write('{},{},{},{}\\n'.format(' '+str(today),person,compri,winner))\n",
    "file.close()"
   ]
  },
  {
   "cell_type": "code",
   "execution_count": 41,
   "id": "63d33d17",
   "metadata": {},
   "outputs": [
    {
     "name": "stdout",
     "output_type": "stream",
     "text": [
      "a 입력 : 10\n",
      "b 입력 : 15\n",
      "c : 25, d : 25\n",
      "교환 법칙 성립\n"
     ]
    }
   ],
   "source": [
    "a = int(input('a 입력 : '))\n",
    "b = int(input('b 입력 : '))\n",
    "\n",
    "c = a+b\n",
    "d = b+a\n",
    "\n",
    "if c==d:\n",
    "    print('c : %d, d : %d' %(c,d))\n",
    "    print('교환 법칙 성립')\n",
    "else:\n",
    "    print('거꾸로된 세상')"
   ]
  },
  {
   "cell_type": "markdown",
   "id": "6def2cb7",
   "metadata": {},
   "source": [
    "# 바코드 암호화/복호화 코드"
   ]
  },
  {
   "cell_type": "markdown",
   "id": "ef4e1bc3",
   "metadata": {},
   "source": [
    "123 -> :::||::|:|::||: 으로 출력  \n",
    ":::||::|:|::||: -> 123으로 출력하는 코드를 작성해주세요  "
   ]
  },
  {
   "cell_type": "code",
   "execution_count": 1,
   "id": "6855568b",
   "metadata": {
    "ExecuteTime": {
     "end_time": "2023-04-20T01:53:06.076013Z",
     "start_time": "2023-04-20T01:53:03.248338Z"
    }
   },
   "outputs": [
    {
     "name": "stdout",
     "output_type": "stream",
     "text": [
      "입력 : 123\n",
      "123 -> :::||::|:|::||:\n"
     ]
    }
   ],
   "source": [
    "#List로 만드는 방법\n",
    "barcode = [\n",
    "    '||:::',':::||','::|:|','::||:',':|::|',':|:|:',':||::','|:::|','|::|:','|:|::'\n",
    "]\n",
    "output = ''\n",
    "barinput = input('입력 : ')\n",
    "\n",
    "if (barinput[0] == ':' or barinput[0] == '|'):\n",
    "    for i in range(0,len(barinput),5):\n",
    "        for j in range(len(barcode)):\n",
    "            if barcode[j] == barinput[i:i+5]:\n",
    "                output += str(j)\n",
    "else:\n",
    "    for i in range(len(barinput)):\n",
    "        output += barcode[int(barinput[i])]\n",
    "        \n",
    "print(barinput + \" -> \" + output)                "
   ]
  },
  {
   "cell_type": "code",
   "execution_count": 2,
   "id": "0686b8cf",
   "metadata": {
    "ExecuteTime": {
     "end_time": "2023-04-20T01:53:10.929400Z",
     "start_time": "2023-04-20T01:53:08.246485Z"
    }
   },
   "outputs": [
    {
     "name": "stdout",
     "output_type": "stream",
     "text": [
      "입력 : 578\n",
      "578 -> :|:|:|:::||::|:\n"
     ]
    }
   ],
   "source": [
    "#Dictionary로 만드는 방법\n",
    "barcode = {\n",
    "    0:'||:::',1:':::||',2:'::|:|',3:'::||:',4:':|::|',5:':|:|:',6:':||::',7:'|:::|',8:'|::|:',9:'|:|::'\n",
    "}\n",
    "barinput = input('입력 : ')\n",
    "output = ''\n",
    "\n",
    "if (barinput[0] == ':' or barinput[0] == '|'):\n",
    "    for i in range(0,len(barinput),5):\n",
    "        for key,value in barcode.items():\n",
    "            if value == barinput[i:i+5]:\n",
    "                output += str(key)\n",
    "else:\n",
    "    for i in range(len(barinput)):\n",
    "        for key,value in barcode.items():\n",
    "            if key == int(barinput[i]):\n",
    "                output += value    \n",
    "                \n",
    "print(barinput + \" -> \" + output)"
   ]
  },
  {
   "cell_type": "markdown",
   "id": "3fdd92c2",
   "metadata": {},
   "source": [
    "[index access] for(int i=0;i<10;i++) -> for i in range(0,10,1),for i in range(len(secretCode)) ==== iterable  \n",
    "[pointer] for(auto i = v.begin();i != v.end();i++)  \n",
    "std::vector<int> v;  \n",
    "v[0]  \n",
    "v.begin()  \n",
    "    \n",
    "-> for x in secretCodes:              #secretCodes .... iterable    "
   ]
  },
  {
   "cell_type": "code",
   "execution_count": 11,
   "id": "f9106c10",
   "metadata": {},
   "outputs": [
    {
     "data": {
      "text/plain": [
       "\"secretCode = {\\n    0:'||:::',1:':::||',2:'::|:|',3:'::||:',4:':|::|',5:':|:|:',6:':||::',7:'|:::|',8:'|::|:',9:'|:|::'\\n}\\n\""
      ]
     },
     "execution_count": 11,
     "metadata": {},
     "output_type": "execute_result"
    }
   ],
   "source": [
    "secretCode = [\n",
    "    '||:::',':::||','::|:|','::||:',':|::|',':|:|:',':||::','|:::|','|::|:','|:|::'\n",
    "]\n",
    "\n",
    "\"\"\"secretCode = {\n",
    "    0:'||:::',1:':::||',2:'::|:|',3:'::||:',4:':|::|',5:':|:|:',6:':||::',7:'|:::|',8:'|::|:',9:'|:|::'\n",
    "}\n",
    "\"\"\""
   ]
  },
  {
   "cell_type": "code",
   "execution_count": 4,
   "id": "b08ffff6",
   "metadata": {},
   "outputs": [
    {
     "name": "stdout",
     "output_type": "stream",
     "text": [
      "숫자 입력 : 472\n",
      "472 -> :|::||:::|::|:|\n"
     ]
    }
   ],
   "source": [
    "#strNum = '123'\n",
    "strNum = input('숫자 입력 : ')\n",
    "\n",
    "def ConvertNumToBarCode(strNum):\n",
    "    strBarcode = ''\n",
    "    for n in strNum:\n",
    "        strBarcode = strBarcode + secretCode[int(n)]\n",
    "    return strBarcode\n",
    "\n",
    "print(strNum + ' -> ' + ConvertNumToBarCode(strNum))"
   ]
  },
  {
   "cell_type": "code",
   "execution_count": 18,
   "id": "e80d9ef1",
   "metadata": {},
   "outputs": [
    {
     "name": "stdout",
     "output_type": "stream",
     "text": [
      "바코드 입력 : :|::||:::|::|:|\n",
      "======================================================================\n",
      ":|::||:::|::|:| -> 472\n"
     ]
    }
   ],
   "source": [
    "#strBarcodes = ':::||::|:|::||:'\n",
    "strBarcodes = input('바코드 입력 : ')\n",
    "#print('[0] = ' + secretCode[0] + ', [0]Size = ' + str(len(secretCode[0])))\n",
    "print('='*70)\n",
    "\n",
    "def ConvertBarCodeToNum(strBarcodes):\n",
    "    ptrnSize = len(strBarcodes)\n",
    "    strNum = ''\n",
    "\n",
    "    #var(변수)에서 for문으로 iterable하도록\n",
    "    for i in range(0,ptrnSize,5):\n",
    "        ptrn = strBarcodes[i:i+5]\n",
    "        idx = 0\n",
    "        find_idx = 0\n",
    "        for code in secretCode:\n",
    "            if code == ptrn:            #code에 맞는 index를 찾기위한 조건문\n",
    "                find_idx = idx          #code == ptrn 을 만족하는 index인 find_idx\n",
    "                strNum += str(find_idx)\n",
    "                break\n",
    "            else:\n",
    "                idx += 1\n",
    "    return strNum\n",
    "    \n",
    "    \"\"\" #최적화 -> for를 통해 인덱스 자체를 받음\n",
    "        for j in range(len(secretCode)):\n",
    "            if ptrn == secretCode[j]:\n",
    "                strNum = strNum + str(j);\n",
    "    return strNum\"\"\"\n",
    "\n",
    "print(strBarcodes + ' -> ' + ConvertBarCodeToNum(strBarcodes))"
   ]
  },
  {
   "cell_type": "code",
   "execution_count": 8,
   "id": "29ab5c09",
   "metadata": {},
   "outputs": [
    {
     "name": "stdout",
     "output_type": "stream",
     "text": [
      "입력 : :|::||:::|::|:|\n",
      ":|::||:::|::|:| -> 472\n"
     ]
    }
   ],
   "source": [
    "strInput = input('입력 : ')\n",
    "\n",
    "if strInput[0] == ':' or strInput[0]=='|':\n",
    "    ConvertBarCodeToNum(strInput)\n",
    "    print(strInput + ' -> ' + ConvertBarCodeToNum(strInput))\n",
    "else:\n",
    "    ConvertNumToBarCode(strInput)\n",
    "    print(strInput + ' -> ' + ConvertNumToBarCode(strInput))"
   ]
  },
  {
   "cell_type": "markdown",
   "id": "1ac1ac90",
   "metadata": {},
   "source": [
    "# 영화관 좌석 티켓 계산"
   ]
  },
  {
   "cell_type": "code",
   "execution_count": null,
   "id": "a63ea23e",
   "metadata": {
    "ExecuteTime": {
     "end_time": "2023-03-17T06:24:51.110440Z",
     "start_time": "2023-03-17T06:24:51.110440Z"
    }
   },
   "outputs": [],
   "source": [
    "seatList = {    \n",
    "    ' ': ['1 ',  '2 ',  '3 ',  '4 ',  '5 ',  '6 ',  '7 ',  '8 ',  '9 ',  '10', '11', '12'],\n",
    "    'A': ['EC', 'EC', 'EC', 'EC', 'EC', 'EC', 'EC', 'EC', 'EC', 'EC', 'EC', 'EC'],\n",
    "    'B': ['EC', 'EC', 'EC', 'EC', 'EC', 'EC', 'EC', 'EC', 'EC', 'EC', 'EC', 'EC'],\n",
    "    'C': ['EC', 'EC', 'RE', 'RE', 'RE', 'RE', 'RE', 'RE', 'RE', 'RE', 'EC', 'EC'],\n",
    "    'D': ['EC', 'EC', 'RE', 'RE', 'RE', 'RE', 'RE', 'RE', 'RE', 'RE', 'EC', 'EC'],\n",
    "    'E': ['EC', 'EC', 'RE', 'RE', 'RE', 'RE', 'RE', 'RE', 'RE', 'RE', 'EC', 'EC'],\n",
    "    'F': ['EC', 'EC', 'RE', 'RE', 'RE', 'RE', 'RE', 'RE', 'RE', 'RE', 'EC', 'EC'],\n",
    "    'G': ['SP', 'SP', 'SP', 'SP', 'SP', 'SP', 'SP', 'SP', 'SP', 'SP', 'SP', 'SP'],\n",
    "    'H': ['SP', 'SP', 'SP', 'SP', 'SP', 'SP', 'SP', 'SP', 'SP', 'SP', 'SP', 'SP']\n",
    "}\n",
    "\n",
    "price = {'EC':7000,'RE':8000,'SP':10000}"
   ]
  },
  {
   "cell_type": "code",
   "execution_count": 75,
   "id": "0df76278",
   "metadata": {
    "ExecuteTime": {
     "end_time": "2023-03-17T07:31:36.045431Z",
     "start_time": "2023-03-17T07:31:29.009950Z"
    },
    "scrolled": true
   },
   "outputs": [
    {
     "name": "stdout",
     "output_type": "stream",
     "text": [
      "EC : 7000원, RE : 8000원, SP: 10000원\n",
      "\n",
      "- 좌석배치도\n",
      "\n",
      "   |  1   |  2   |  3   |  4   |  5   |  6   |  7   |  8   |  9   |  10   |  11   |  12   |\n",
      "--------------------------------------------------------------------------------------------\n",
      "A  |  EC  |  EC  |  EC  |  EC  |  EC  |  EC  |  EC  |  EC  |  EC  |  EC  |  EC  |  EC  |\n",
      "--------------------------------------------------------------------------------------------\n",
      "B  |  EC  |  EC  |  EC  |  EC  |  EC  |  EC  |  EC  |  EC  |  EC  |  EC  |  EC  |  EC  |\n",
      "--------------------------------------------------------------------------------------------\n",
      "C  |  EC  |  EC  |  RE  |  RE  |  RE  |  RE  |  RE  |  RE  |  RE  |  RE  |  EC  |  EC  |\n",
      "--------------------------------------------------------------------------------------------\n",
      "D  |  EC  |  EC  |  RE  |  RE  |  RE  |  RE  |  RE  |  RE  |  RE  |  RE  |  EC  |  EC  |\n",
      "--------------------------------------------------------------------------------------------\n",
      "E  |  EC  |  EC  |  RE  |  RE  |  RE  |  RE  |  RE  |  RE  |  RE  |  RE  |  EC  |  EC  |\n",
      "--------------------------------------------------------------------------------------------\n",
      "F  |  EC  |  EC  |  RE  |  RE  |  RE  |  RE  |  RE  |  RE  |  RE  |  RE  |  EC  |  EC  |\n",
      "--------------------------------------------------------------------------------------------\n",
      "G  |  SP  |  SP  |  SP  |  SP  |  SP  |  SP  |  SP  |  SP  |  SP  |  SP  |  SP  |  SP  |\n",
      "--------------------------------------------------------------------------------------------\n",
      "H  |  SP  |  SP  |  SP  |  SP  |  SP  |  SP  |  SP  |  SP  |  SP  |  SP  |  SP  |  SP  |\n",
      "--------------------------------------------------------------------------------------------\n",
      "원하는 좌석을 선택해주세요. (예 : F11) : F0\n",
      "좌석번호가 잘못되었습니다. 다시 입력해주세요\n",
      "원하는 좌석을 선택해주세요. (예 : F11) : F11\n",
      "좌석번호 : F11\n",
      "티켓 가격 : 7000\n"
     ]
    }
   ],
   "source": [
    "state = 0\n",
    "\n",
    "print('EC : {}원, RE : {}원, SP: {}원\\n'.format(price['EC'],price['RE'],price['SP']))\n",
    "print('- 좌석배치도\\n')\n",
    "\n",
    "for key,value in seatList.items():\n",
    "    print(key+'  | ' + ' ',end='')\n",
    "    for col in range(len(value)):\n",
    "        if col == 11:\n",
    "            print(value[col]+'  |')\n",
    "        else:    \n",
    "            print(value[col]+'  | '+ ' ',end = '')\n",
    "    print('-'*92)    \n",
    "\n",
    "while state != 1:\n",
    "    seat = str(input('원하는 좌석을 선택해주세요. (예 : F11) : '))\n",
    "    if ord('H') < ord(seat[0]) or int(seat[1:]) > 12 or int(seat[1:])==0:\n",
    "                print('좌석번호가 잘못되었습니다. 다시 입력해주세요')    \n",
    "    for key,value in seatList.items():\n",
    "        if key == seat[0] and int(seat[1:]) != 0:\n",
    "            print('좌석번호 : ' + seat)\n",
    "            print('티켓 가격 : ' + str(price[value[int(seat[1:])-1]]))\n",
    "            state = 1\n",
    "           "
   ]
  },
  {
   "cell_type": "code",
   "execution_count": null,
   "id": "bf0e843c",
   "metadata": {},
   "outputs": [],
   "source": []
  },
  {
   "cell_type": "code",
   "execution_count": null,
   "id": "7a457e30",
   "metadata": {},
   "outputs": [],
   "source": []
  }
 ],
 "metadata": {
  "kernelspec": {
   "display_name": "Python 3 (ipykernel)",
   "language": "python",
   "name": "python3"
  },
  "language_info": {
   "codemirror_mode": {
    "name": "ipython",
    "version": 3
   },
   "file_extension": ".py",
   "mimetype": "text/x-python",
   "name": "python",
   "nbconvert_exporter": "python",
   "pygments_lexer": "ipython3",
   "version": "3.9.13"
  },
  "toc": {
   "base_numbering": 1,
   "nav_menu": {},
   "number_sections": true,
   "sideBar": true,
   "skip_h1_title": false,
   "title_cell": "Table of Contents",
   "title_sidebar": "Contents",
   "toc_cell": false,
   "toc_position": {},
   "toc_section_display": true,
   "toc_window_display": false
  },
  "varInspector": {
   "cols": {
    "lenName": 16,
    "lenType": 16,
    "lenVar": 40
   },
   "kernels_config": {
    "python": {
     "delete_cmd_postfix": "",
     "delete_cmd_prefix": "del ",
     "library": "var_list.py",
     "varRefreshCmd": "print(var_dic_list())"
    },
    "r": {
     "delete_cmd_postfix": ") ",
     "delete_cmd_prefix": "rm(",
     "library": "var_list.r",
     "varRefreshCmd": "cat(var_dic_list()) "
    }
   },
   "types_to_exclude": [
    "module",
    "function",
    "builtin_function_or_method",
    "instance",
    "_Feature"
   ],
   "window_display": false
  }
 },
 "nbformat": 4,
 "nbformat_minor": 5
}
