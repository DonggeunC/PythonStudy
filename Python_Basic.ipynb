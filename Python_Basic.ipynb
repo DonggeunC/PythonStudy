{
 "cells": [
  {
   "cell_type": "markdown",
   "id": "51528b59",
   "metadata": {},
   "source": [
    "# Python Basic - Type, Operator, String, Print"
   ]
  },
  {
   "cell_type": "code",
   "execution_count": 1,
   "id": "64e9e5e5",
   "metadata": {},
   "outputs": [
    {
     "name": "stdout",
     "output_type": "stream",
     "text": [
      "Hello World\n"
     ]
    }
   ],
   "source": [
    "print('Hello World')"
   ]
  },
  {
   "cell_type": "code",
   "execution_count": 5,
   "id": "21248b0e",
   "metadata": {},
   "outputs": [
    {
     "name": "stdout",
     "output_type": "stream",
     "text": [
      "<class 'int'>\n",
      "<class 'str'>\n"
     ]
    }
   ],
   "source": [
    "a=1\n",
    "print(type(a))\n",
    "\n",
    "a=\"001\"\n",
    "print(type(a))\n",
    "\n"
   ]
  },
  {
   "cell_type": "code",
   "execution_count": 3,
   "id": "5df4ca51",
   "metadata": {},
   "outputs": [],
   "source": [
    "import tkinter as tk\n",
    "\n",
    "# 윈도우 생성\n",
    "root = tk.Tk()\n",
    "root.title(\"My GUI\")\n",
    "\n",
    "# 라벨 생성\n",
    "label = tk.Label(root, text=\"Hello, Tkinter!\")\n",
    "label.pack()\n",
    "\n",
    "# 버튼 생성\n",
    "def button_click():\n",
    "    label.config(text=\"Button Clicked!\")\n",
    "\n",
    "button = tk.Button(root, text=\"Click Me!\", command=button_click)\n",
    "button.pack()\n",
    "\n",
    "# 윈도우 실행\n",
    "root.mainloop()"
   ]
  },
  {
   "cell_type": "code",
   "execution_count": 12,
   "id": "8e2d0398",
   "metadata": {},
   "outputs": [
    {
     "name": "stdout",
     "output_type": "stream",
     "text": [
      "3.3333333333333335\n",
      "3\n"
     ]
    }
   ],
   "source": [
    "a = 10/3\n",
    "print(a)\n",
    "a= 10//3 #소수점 절삭연산\n",
    "print(a)"
   ]
  },
  {
   "cell_type": "code",
   "execution_count": 14,
   "id": "7aa9eaab",
   "metadata": {
    "scrolled": true
   },
   "outputs": [
    {
     "name": "stdout",
     "output_type": "stream",
     "text": [
      "a= 8\n"
     ]
    }
   ],
   "source": [
    "# 제곱연산자\n",
    "a=2**3\n",
    "print('a= '+str(a))"
   ]
  },
  {
   "cell_type": "markdown",
   "id": "7ef4cdd9",
   "metadata": {},
   "source": [
    "# 문자열(string)"
   ]
  },
  {
   "cell_type": "code",
   "execution_count": 17,
   "id": "0a4ea081",
   "metadata": {
    "scrolled": false
   },
   "outputs": [
    {
     "name": "stdout",
     "output_type": "stream",
     "text": [
      "a = Hello World\n",
      "a = Hello WorldHello WorldHello World\n",
      "a[0] = H\n",
      "a[0:5] = Hello\n"
     ]
    }
   ],
   "source": [
    "a='Hello World'\n",
    "print('a = '+ a)\n",
    "a='Hello World'*3\n",
    "print('a = '+ a)\n",
    "print('a[0] = '+ a[0])\n",
    "print('a[0:5] = '+ a[0:5])"
   ]
  },
  {
   "cell_type": "code",
   "execution_count": 21,
   "id": "7fca662c",
   "metadata": {},
   "outputs": [
    {
     "name": "stdout",
     "output_type": "stream",
     "text": [
      "Today = 2023-03-15\n",
      "string Length - Today is 10\n"
     ]
    }
   ],
   "source": [
    "date='20230315'\n",
    "year = date[0:4]\n",
    "month = date[4:6]\n",
    "day = date[6:]\n",
    "date2 = year + '-' + month + '-' + day\n",
    "print('Today = ' + date2)\n",
    "print('string Length - Today is ' + str(len(date2)))"
   ]
  },
  {
   "cell_type": "code",
   "execution_count": 24,
   "id": "3723676e",
   "metadata": {
    "scrolled": true
   },
   "outputs": [
    {
     "name": "stdout",
     "output_type": "stream",
     "text": [
      "나는 빨강을 좋아합니다.\n",
      "나는 초록을 좋아합니다.\n"
     ]
    }
   ],
   "source": [
    "color = '빨강'\n",
    "fmt = '나는 %s을 좋아합니다.' % color\n",
    "print(fmt)\n",
    "color = '초록'\n",
    "fmt = '나는 %s을 좋아합니다.' % color\n",
    "print(fmt)"
   ]
  },
  {
   "cell_type": "code",
   "execution_count": 36,
   "id": "34504b64",
   "metadata": {},
   "outputs": [
    {
     "name": "stdout",
     "output_type": "stream",
     "text": [
      "sum : 280 , avg : 93.33\n",
      "result type :: <class 'tuple'>\n"
     ]
    }
   ],
   "source": [
    "kor = 88\n",
    "eng = 95\n",
    "math = 97\n",
    "sum = kor+eng+math\n",
    "avg = sum/3\n",
    "result = (sum,avg) #tuple형태 - read only\n",
    "fmt = \"sum : %d , avg : %.2f\" %result #fmt = \"sum : %d , avg : %f\" %(sum,avg)\n",
    "print(fmt)\n",
    "\n",
    "print('result type :: ' +str(type(result)))"
   ]
  },
  {
   "cell_type": "markdown",
   "id": "3588e48b",
   "metadata": {},
   "source": [
    "# Tuple - (a,b), List - [1,2], Dict - {'a':1}"
   ]
  },
  {
   "cell_type": "code",
   "execution_count": 37,
   "id": "f8213050",
   "metadata": {},
   "outputs": [
    {
     "name": "stdout",
     "output_type": "stream",
     "text": [
      "input your name : cdg\n",
      "name is cdg\n"
     ]
    }
   ],
   "source": [
    "name = input(\"input your name : \")\n",
    "print('name is ' + name)"
   ]
  },
  {
   "cell_type": "code",
   "execution_count": 46,
   "id": "3b2c3662",
   "metadata": {},
   "outputs": [
    {
     "name": "stdout",
     "output_type": "stream",
     "text": [
      "input integer value : 15\n",
      "value is 15\n",
      "input integer value : 53\n",
      "value is 53\n",
      "sum = 68\n",
      "sub = -38\n",
      "mul = 795\n",
      "div = 0.2830188679245283\n"
     ]
    }
   ],
   "source": [
    "a = input('input integer value : ')\n",
    "print ('value is ' + a)\n",
    "b = input('input integer value : ')\n",
    "print('value is ' + b)\n",
    "a= int(a)\n",
    "b= int(b)\n",
    "print('sum = ' + str(a+b))\n",
    "print('sub = ' + str(a-b))\n",
    "print('mul = ' + str(a*b))\n",
    "print('div = ' + str(a/b))"
   ]
  },
  {
   "cell_type": "code",
   "execution_count": 50,
   "id": "fe06fc99",
   "metadata": {
    "scrolled": true
   },
   "outputs": [
    {
     "name": "stdout",
     "output_type": "stream",
     "text": [
      "물건 가격 : 1200\n",
      "구매 개수 : 3\n",
      "지불 금액 : 4000\n",
      "물건 가격 : 1200, 구매 개수 : 3 , 지불 금액 : 4000 => 거스름 돈 : 400\n"
     ]
    }
   ],
   "source": [
    "price = int(input(\"물건 가격 : \"))\n",
    "num = int(input(\"구매 개수 : \"))\n",
    "pay = int(input(\"지불 금액 : \"))\n",
    "change = pay - price*num\n",
    "print('물건 가격 : {}, 구매 개수 : {} , 지불 금액 : {} => 거스름 돈 : {}'.format(price,num,pay,change))"
   ]
  },
  {
   "cell_type": "code",
   "execution_count": 56,
   "id": "9068e9b0",
   "metadata": {},
   "outputs": [
    {
     "name": "stdout",
     "output_type": "stream",
     "text": [
      "input x value -> 0\n",
      "zero\n"
     ]
    }
   ],
   "source": [
    "x = int(input('input x value -> '))\n",
    "if x>0:\n",
    "    print('positive')\n",
    "elif x==0:\n",
    "    print('zero')\n",
    "else:\n",
    "    print('negative')"
   ]
  },
  {
   "cell_type": "code",
   "execution_count": 60,
   "id": "8e8a5f68",
   "metadata": {
    "scrolled": true
   },
   "outputs": [
    {
     "name": "stdout",
     "output_type": "stream",
     "text": [
      "5>2 : True\n",
      "5<2 : False\n",
      "5==2 : False\n",
      "5!=2 : True\n",
      "5>=2 : True\n",
      "5<=2 : False\n"
     ]
    }
   ],
   "source": [
    "a = 5\n",
    "b = 2\n",
    "print('{a}>{b} : '.format(a=a,b=b) + str(a>b))\n",
    "print('{a}<{b} : '.format(a=a,b=b) + str(a<b))\n",
    "print('{a}=={b} : '.format(a=a,b=b) + str(a==b))\n",
    "print('{a}!={b} : '.format(a=a,b=b) + str(a!=b))\n",
    "print('{a}>={b} : '.format(a=a,b=b) + str(a>=b))\n",
    "print('{a}<={b} : '.format(a=a,b=b) + str(a<=b))"
   ]
  },
  {
   "cell_type": "code",
   "execution_count": 69,
   "id": "7ea4c735",
   "metadata": {},
   "outputs": [
    {
     "name": "stdout",
     "output_type": "stream",
     "text": [
      "comp Type : <class 'bool'>, value : False\n",
      "comp Type : <class 'bool'>, value : True\n",
      "comp Type : <class 'bool'>, value : True\n",
      "x%2 == 0 comp Type : <class 'int'>, value : 1\n",
      "x%2 == 0 comp Type : <class 'bool'>, value : False\n"
     ]
    }
   ],
   "source": [
    "# 논리 연산자 - & , |  ! => and , or , not\n",
    "\n",
    "kor = 60\n",
    "eng = 90\n",
    "comp = kor >= 70 and eng >= 90\n",
    "print('comp Type : ' + str(type(comp)) + ', value : ' + str(comp))\n",
    "comp = kor >= 70 or eng >= 90\n",
    "print('comp Type : ' + str(type(comp)) + ', value : ' + str(comp))\n",
    "comp = not kor == 70 # kor == 60\n",
    "print('comp Type : ' + str(type(comp)) + ', value : ' + str(comp))\n",
    "\n",
    "x=5\n",
    "comp = x%2\n",
    "print('x%2 == 0 comp Type : ' + str(type(comp)) + ', value : ' + str(comp))\n",
    "comp = not x%2\n",
    "print('x%2 == 0 comp Type : ' + str(type(comp)) + ', value : ' + str(comp))"
   ]
  },
  {
   "cell_type": "markdown",
   "id": "48eb97a5",
   "metadata": {},
   "source": [
    "# if ~ else, if ~ elif ~ else문"
   ]
  },
  {
   "cell_type": "code",
   "execution_count": 76,
   "id": "1e593113",
   "metadata": {},
   "outputs": [
    {
     "name": "stdout",
     "output_type": "stream",
     "text": [
      "정수를 입력하세요 : 465\n",
      "입력된 정수 : 465\n",
      "입력된 정수는 100~1000사이에 있습니다!\n"
     ]
    }
   ],
   "source": [
    "num=int(input('정수를 입력하세요 : '))\n",
    "result = '입력된 정수는 100~1000사이에 있지 않습니다!'\n",
    "if num>=100 and num <= 1000:\n",
    "    result = \"입력된 정수는 100~1000사이에 있습니다!\"\n",
    "\n",
    "print(\"입력된 정수 : %d\"%num)\n",
    "print('%s'%result)"
   ]
  },
  {
   "cell_type": "code",
   "execution_count": 84,
   "id": "7c71877e",
   "metadata": {
    "scrolled": true
   },
   "outputs": [
    {
     "name": "stdout",
     "output_type": "stream",
     "text": [
      "영어 소문자 하나를 입력하세요 : 100\n",
      "100 -> 자음\n"
     ]
    }
   ],
   "source": [
    "char = input('영어 소문자 하나를 입력하세요 : ')\n",
    "if(char == 'a' or char == 'e' or char =='i' or char=='o' or char =='u'):\n",
    "    print('%s -> 모음' %char)\n",
    "else:\n",
    "    print('%s -> 자음' %char)"
   ]
  },
  {
   "cell_type": "code",
   "execution_count": 112,
   "id": "b449d157",
   "metadata": {},
   "outputs": [
    {
     "name": "stdout",
     "output_type": "stream",
     "text": [
      "월을 입력해주세요: 12\n",
      "12 월은 겨울 입니다\n"
     ]
    }
   ],
   "source": [
    "month = int(input(\"월을 입력해주세요: \"))\n",
    "if month >= 3 and month <= 5:\n",
    "    season = '봄'\n",
    "    print(month,'월은',season,\"입니다\")\n",
    "elif month >= 6 and month <= 8:\n",
    "    season = '여름'\n",
    "    print(month,'월은',season,\"입니다\")\n",
    "elif month >= 9 and month <= 11:\n",
    "    season = '가을'\n",
    "    print(month,'월은',season,\"입니다\")\n",
    "elif month ==12 or month == 1 or month == 2:\n",
    "    season = '겨울'\n",
    "    print(month,'월은',season,\"입니다\")\n",
    "else:\n",
    "    print(\"월이 잘못 입력되었습니다.\")"
   ]
  },
  {
   "cell_type": "markdown",
   "id": "9be19f84",
   "metadata": {},
   "source": [
    "# 반복문 ... for, while"
   ]
  },
  {
   "cell_type": "code",
   "execution_count": 130,
   "id": "329b1041",
   "metadata": {},
   "outputs": [
    {
     "name": "stdout",
     "output_type": "stream",
     "text": [
      "[0] hello world\n",
      "[1] hello world\n",
      "[2] hello world\n",
      "[3] hello world\n",
      "[4] hello world\n",
      "====================\n",
      "2\n",
      "3\n",
      "4\n",
      "5\n",
      "====================\n",
      "2\n",
      "4\n",
      "6\n",
      "8\n",
      "10\n",
      "12\n",
      "14\n",
      "16\n",
      "18\n",
      "20\n",
      "22\n",
      "24\n",
      "26\n",
      "28\n",
      "====================\n",
      "apple\n",
      "cherry\n",
      "====================\n",
      "apple apple\n",
      "apple banana\n",
      "apple cherry\n",
      "banana apple\n",
      "banana banana\n",
      "banana cherry\n",
      "cherry apple\n",
      "cherry banana\n",
      "cherry cherry\n",
      "====================\n",
      "0\n",
      "1\n",
      "2\n",
      "3\n",
      "4\n",
      "5\n",
      "6\n"
     ]
    }
   ],
   "source": [
    "cnt = 5\n",
    "for i in range(cnt):     # for(i=0;i<cnt(5);i++)\n",
    "    print(\"[{}] hello world\".format(i))\n",
    "print('=' * 20)\n",
    "    \n",
    "for x in range(2,6):     # for(x=2;x<6;x++) .. range(start,final)\n",
    "    print(x)\n",
    "print('=' * 20)\n",
    "    \n",
    "for x in range(2,30,2):     # for(x=2;x<30;x+=2) .. range(start,final,plus)\n",
    "    print(x)\n",
    "print('=' * 20)\n",
    "    \n",
    "fruits = ['apple','banana','cherry']\n",
    "for fruit in fruits:\n",
    "    if fruit == 'banana':\n",
    "        #break\n",
    "        continue\n",
    "    print(fruit)  \n",
    "print('=' * 20)\n",
    "    \n",
    "for x in fruits:\n",
    "    for y in fruits:\n",
    "        print(x,y)\n",
    "print('=' * 20)\n",
    "\n",
    "for x in [0,1,2,3,4,5,6]:\n",
    "    print(x)"
   ]
  },
  {
   "cell_type": "markdown",
   "id": "67950a51",
   "metadata": {},
   "source": [
    "# for -> 구구단"
   ]
  },
  {
   "cell_type": "code",
   "execution_count": 181,
   "id": "c8929e55",
   "metadata": {},
   "outputs": [
    {
     "name": "stdout",
     "output_type": "stream",
     "text": [
      "2단\t 3단\t 4단\t 5단\t 6단\t 7단\t 8단\t 9단\t \n",
      "2x1=2 \t 3x1=3 \t 4x1=4 \t 5x1=5 \t 6x1=6 \t 7x1=7 \t 8x1=8 \t 9x1=9 \t \n",
      "2x2=4 \t 3x2=6 \t 4x2=8 \t 5x2=10\t 6x2=12\t 7x2=14\t 8x2=16\t 9x2=18\t \n",
      "2x3=6 \t 3x3=9 \t 4x3=12\t 5x3=15\t 6x3=18\t 7x3=21\t 8x3=24\t 9x3=27\t \n",
      "2x4=8 \t 3x4=12\t 4x4=16\t 5x4=20\t 6x4=24\t 7x4=28\t 8x4=32\t 9x4=36\t \n",
      "2x5=10\t 3x5=15\t 4x5=20\t 5x5=25\t 6x5=30\t 7x5=35\t 8x5=40\t 9x5=45\t \n",
      "2x6=12\t 3x6=18\t 4x6=24\t 5x6=30\t 6x6=36\t 7x6=42\t 8x6=48\t 9x6=54\t \n",
      "2x7=14\t 3x7=21\t 4x7=28\t 5x7=35\t 6x7=42\t 7x7=49\t 8x7=56\t 9x7=63\t \n",
      "2x8=16\t 3x8=24\t 4x8=32\t 5x8=40\t 6x8=48\t 7x8=56\t 8x8=64\t 9x8=72\t \n",
      "2x9=18\t 3x9=27\t 4x9=36\t 5x9=45\t 6x9=54\t 7x9=63\t 8x9=72\t 9x9=81\t \n"
     ]
    }
   ],
   "source": [
    "for x in range(0,10):\n",
    "    for y in range(2,10):\n",
    "        if x == 0:\n",
    "            print(str(y)+\"단\"+'\\t', end = ' ')\n",
    "        else:\n",
    "            print('%dx%d=%-2d\\t'%(y,x,x*y),end=' ')\n",
    "    print()"
   ]
  },
  {
   "cell_type": "code",
   "execution_count": 176,
   "id": "c347ad91",
   "metadata": {},
   "outputs": [
    {
     "name": "stdout",
     "output_type": "stream",
     "text": [
      "최근 로또 당첨번호는 다음과 같습니다:\n",
      "\n",
      "11 23 25 30 32 40 "
     ]
    }
   ],
   "source": [
    "import requests\n",
    "from bs4 import BeautifulSoup\n",
    "\n",
    "url = 'https://www.dhlottery.co.kr/gameResult.do?method=byWin'\n",
    "response = requests.get(url)\n",
    "\n",
    "soup = BeautifulSoup(response.text, 'html.parser')\n",
    "winning_numbers = soup.select('.num.win span')\n",
    "\n",
    "print(\"최근 로또 당첨번호는 다음과 같습니다:\")\n",
    "print()\n",
    "for number in winning_numbers:\n",
    "    print(number.text, end=' ')"
   ]
  },
  {
   "cell_type": "markdown",
   "id": "def16e3a",
   "metadata": {},
   "source": [
    "# LIST"
   ]
  },
  {
   "cell_type": "code",
   "execution_count": 194,
   "id": "837e3d7d",
   "metadata": {
    "scrolled": true
   },
   "outputs": [
    {
     "name": "stdout",
     "output_type": "stream",
     "text": [
      "['red', 'green', 'white', 'black', 'blue']\n",
      "<class 'list'>\n",
      "red\n",
      "green\n",
      "white\n",
      "<class 'str'>\n",
      "['green', 'white', 'black']\n",
      "<class 'list'>\n",
      "[1, 3, 5, 7, 9, 11, 13, 15, 17, 19]\n",
      "[7, 9, 11, 13]\n",
      "사자\n",
      "호랑이\n",
      "원숭이\n",
      "곰\n",
      "사슴\n",
      "==================================================\n",
      "['무궁화', '장미', '개나리']\n",
      "['무궁화', '장미', '개나리', '벗꽃']\n",
      "['무궁화', '개나리', '벗꽃']\n"
     ]
    }
   ],
   "source": [
    "color = ['red','green','white','black','blue']\n",
    "print(color)\n",
    "print(type(color))\n",
    "print(color[0])\n",
    "print(color[1])\n",
    "print(color[2])\n",
    "print(type(color[1]))\n",
    "print(color[1:4])\n",
    "print(type(color[1:4]))\n",
    "\n",
    "nums = list(range(1,21,2))\n",
    "print(nums)\n",
    "print(nums[3:7])\n",
    "\n",
    "animals = ['사자','호랑이','원숭이','곰','사슴']\n",
    "i=0\n",
    "while i<len(animals):\n",
    "    print(animals[i])\n",
    "    i+=1\n",
    "print('=' * 50)\n",
    "\n",
    "flower = ['무궁화','장미','개나리']\n",
    "print(flower)\n",
    "flower.append('벗꽃') #리스트에 추가\n",
    "print(flower)\n",
    "flower.remove('장미') #리스트에서 삭제\n",
    "print(flower)"
   ]
  },
  {
   "cell_type": "code",
   "execution_count": 199,
   "id": "490b9c13",
   "metadata": {},
   "outputs": [
    {
     "name": "stdout",
     "output_type": "stream",
     "text": [
      "성적을 입력하시오(종료시 -1입력) : 100\n",
      "성적을 입력하시오(종료시 -1입력) : 88\n",
      "성적을 입력하시오(종료시 -1입력) : 100\n",
      "성적을 입력하시오(종료시 -1입력) : 97\n",
      "성적을 입력하시오(종료시 -1입력) : 100\n",
      "성적을 입력하시오(종료시 -1입력) : 75\n",
      "성적을 입력하시오(종료시 -1입력) : -1\n",
      "합계 : 560, 평균 : 93.33\n"
     ]
    }
   ],
   "source": [
    "scores = []\n",
    "\n",
    "while True:\n",
    "    x= int(input(\"성적을 입력하시오(종료시 -1입력) : \"))\n",
    "    if x == -1:\n",
    "        break\n",
    "    else:\n",
    "        scores.append(x)\n",
    "\n",
    "sum = 0\n",
    "for score in scores:\n",
    "    sum += score\n",
    "\n",
    "avg = sum/len(scores)\n",
    "print('합계 : %d, 평균 : %.2f'%(sum,avg))"
   ]
  },
  {
   "cell_type": "code",
   "execution_count": 2,
   "id": "24b2ff74",
   "metadata": {},
   "outputs": [
    {
     "name": "stdout",
     "output_type": "stream",
     "text": [
      "['banana', 'mango']\n",
      "====================================================================================================\n",
      "[[1, 2, 3], [4, 5, 6], [7, 8, 9]]\n",
      "<class 'list'>\n",
      "numbers[0][0] = 1\n",
      "numbers[0][1] = 2\n",
      "numbers[0][2] = 3\n",
      "numbers[1][0] = 4\n",
      "numbers[1][1] = 5\n",
      "numbers[1][2] = 6\n",
      "numbers[2][0] = 7\n",
      "numbers[2][1] = 8\n",
      "numbers[2][2] = 9\n"
     ]
    }
   ],
   "source": [
    "fruits = ['apple','banana','mango','cherry','kiwi']\n",
    "newlist = [x for x in fruits if 'n' in x]\n",
    "print(newlist)\n",
    "print('='* 100)\n",
    "\n",
    "numbers = [[1,2,3],[4,5,6],[7,8,9]]\n",
    "print(numbers)\n",
    "print(type(numbers))\n",
    "\n",
    "for i in range(len(numbers)):\n",
    "    for j in range(len(numbers[i])):\n",
    "        print(\"numbers[{}][{}] = {}\".format(i,j,numbers[i][j]))\n"
   ]
  },
  {
   "cell_type": "code",
   "execution_count": 230,
   "id": "7b56945b",
   "metadata": {},
   "outputs": [
    {
     "name": "stdout",
     "output_type": "stream",
     "text": [
      "[[75, 83, 90], [86, 86, 73], [76, 95, 83], [89, 96, 69], [89, 76, 93]]\n",
      "====================================================================================================\n",
      "row_length = 5\n",
      "col_length = 3\n",
      "1번째 학생의 합계 : 248, 평균 : 82.67\n",
      "2번째 학생의 합계 : 245, 평균 : 81.67\n",
      "3번째 학생의 합계 : 254, 평균 : 84.67\n",
      "4번째 학생의 합계 : 254, 평균 : 84.67\n",
      "5번째 학생의 합계 : 258, 평균 : 86.00\n"
     ]
    }
   ],
   "source": [
    "scores = [\n",
    "    [75,83,90],\n",
    "    [86,86,73],\n",
    "    [76,95,83],\n",
    "    [89,96,69],\n",
    "    [89,76,93]\n",
    "]\n",
    "print(scores)\n",
    "print('='*100)\n",
    "\n",
    "row_length = len(scores)\n",
    "col_length = len(scores[0])\n",
    "print('row_length = {}'.format(row_length))\n",
    "print('col_length = {}'.format(col_length))\n",
    "\n",
    "for x in range(row_length):\n",
    "    sum = 0\n",
    "    avg = 0.0\n",
    "    for y in range(col_length):\n",
    "        sum = sum+scores[x][y]\n",
    "    avg = sum/len(scores[x])\n",
    "    print('%d번째 학생의 합계 : %d, 평균 : %.2f'%(x+1,sum,avg))\n",
    "    "
   ]
  },
  {
   "cell_type": "code",
   "execution_count": 229,
   "id": "54c94155",
   "metadata": {},
   "outputs": [
    {
     "name": "stdout",
     "output_type": "stream",
     "text": [
      "양의 정수 입력 : 20\n",
      "98\n"
     ]
    }
   ],
   "source": [
    "n = int(input(\"양의 정수 입력 : \"))\n",
    "sum = 0\n",
    "\n",
    "for x in range(1,n+1):\n",
    "    if x%3 == 0:\n",
    "        sum += x\n",
    "    elif x%5==0:\n",
    "        sum += x\n",
    "\n",
    "print(sum)        "
   ]
  },
  {
   "cell_type": "code",
   "execution_count": 237,
   "id": "4bde208b",
   "metadata": {},
   "outputs": [
    {
     "name": "stdout",
     "output_type": "stream",
     "text": [
      "입력 : 10\n",
      "입력 : 5\n",
      "입력 : 19\n",
      "입력 : 27\n",
      "입력 : 41\n",
      "입력 : -1\n",
      "5\n"
     ]
    }
   ],
   "source": [
    "inputList = []\n",
    "while True:\n",
    "    x = int(input(\"입력 : \"))\n",
    "    if x <0 :\n",
    "        break\n",
    "    else:    \n",
    "        inputList.append(x)\n",
    "min = 100\n",
    "\n",
    "for i in range(len(inputList)):\n",
    "    if i >0:\n",
    "        if abs(inputList[i]-inputList[i-1]) < min :\n",
    "            min =  abs(inputList[i]-inputList[i-1])\n",
    "\n",
    "print(min)"
   ]
  },
  {
   "cell_type": "markdown",
   "id": "b181a817",
   "metadata": {},
   "source": [
    "# Function"
   ]
  },
  {
   "cell_type": "code",
   "execution_count": 242,
   "id": "788c071d",
   "metadata": {},
   "outputs": [],
   "source": [
    "#def hello():\n",
    "def hello(name):\n",
    "    print('{}: This is hello function'.format(name))"
   ]
  },
  {
   "cell_type": "code",
   "execution_count": 244,
   "id": "a316c24a",
   "metadata": {},
   "outputs": [
    {
     "name": "stdout",
     "output_type": "stream",
     "text": [
      "apple: This is hello function\n",
      "banana: This is hello function\n",
      "mango: This is hello function\n",
      "cherry: This is hello function\n",
      "kiwi: This is hello function\n"
     ]
    }
   ],
   "source": [
    "fruits = ['apple','banana','mango','cherry','kiwi']\n",
    "for fruit in fruits:\n",
    "    hello(fruit)"
   ]
  },
  {
   "cell_type": "code",
   "execution_count": 1,
   "id": "05b2095b",
   "metadata": {},
   "outputs": [],
   "source": [
    "def sum(a,b):\n",
    "    return a+b"
   ]
  },
  {
   "cell_type": "code",
   "execution_count": 7,
   "id": "48c9fa3f",
   "metadata": {},
   "outputs": [
    {
     "name": "stdout",
     "output_type": "stream",
     "text": [
      "10 ~ 10의 정수의 합계 : 10\n"
     ]
    }
   ],
   "source": [
    "sum(10,10)"
   ]
  },
  {
   "cell_type": "code",
   "execution_count": 3,
   "id": "dadbce81",
   "metadata": {},
   "outputs": [],
   "source": [
    "def calc(a,b):\n",
    "    sum = a+b\n",
    "    avg = sum/2\n",
    "    return sum,avg"
   ]
  },
  {
   "cell_type": "code",
   "execution_count": 5,
   "id": "bbc5fe9d",
   "metadata": {},
   "outputs": [
    {
     "name": "stdout",
     "output_type": "stream",
     "text": [
      "(20, 10.0)\n",
      "<class 'tuple'>\n"
     ]
    }
   ],
   "source": [
    "ret = calc(10,10)\n",
    "print(ret)\n",
    "print(type(ret))"
   ]
  },
  {
   "cell_type": "code",
   "execution_count": 11,
   "id": "66cd1d3c",
   "metadata": {},
   "outputs": [
    {
     "name": "stdout",
     "output_type": "stream",
     "text": [
      "1 ~ 10의 정수의 합계 : 55\n",
      "100 ~ 200의 정수의 합계 : 15150\n"
     ]
    },
    {
     "data": {
      "text/plain": [
       "25250"
      ]
     },
     "execution_count": 11,
     "metadata": {},
     "output_type": "execute_result"
    }
   ],
   "source": [
    "def sum(start,end):\n",
    "    hap = 0\n",
    "    for i in range(start,end+1):\n",
    "        hap += i\n",
    "    #print('%d ~ %d의 정수의 합계 : %d'%(start,end,hap))\n",
    "    return hap\n",
    "    \n",
    "\n",
    "\n",
    "start = 1\n",
    "end = 10\n",
    "hap = sum(start,end)\n",
    "print('%d ~ %d의 정수의 합계 : %d'%(start,end,hap))\n",
    "start = 100\n",
    "end = 200\n",
    "hap = sum(start,end)\n",
    "print('%d ~ %d의 정수의 합계 : %d'%(start,end,hap))\n",
    "sum(200,300)"
   ]
  },
  {
   "cell_type": "markdown",
   "id": "1c222526",
   "metadata": {},
   "source": [
    "# File I/O"
   ]
  },
  {
   "cell_type": "code",
   "execution_count": 12,
   "id": "c1f159dd",
   "metadata": {},
   "outputs": [
    {
     "name": "stdout",
     "output_type": "stream",
     "text": [
      "sample.txt 파일 쓰기 완료\n"
     ]
    }
   ],
   "source": [
    "file = open('sample.txt','w')\n",
    "file.write('안녕하세요. KCCI 수업 중입니다.')\n",
    "file.close()\n",
    "print('sample.txt 파일 쓰기 완료')"
   ]
  },
  {
   "cell_type": "code",
   "execution_count": 15,
   "id": "bbdd03aa",
   "metadata": {},
   "outputs": [
    {
     "name": "stdout",
     "output_type": "stream",
     "text": [
      "안소영 97 80 93 97 93\n",
      "정예린 86 100 93 86 90\n",
      "김세린 91 88 99 79 92\n",
      "연수정 86 100 93 89 92\n",
      "박지아 80 100 95 89 90\n",
      "\n"
     ]
    }
   ],
   "source": [
    "scores = [\n",
    "    '안소영 97 80 93 97 93',\n",
    "    '정예린 86 100 93 86 90',\n",
    "    '김세린 91 88 99 79 92',\n",
    "    '연수정 86 100 93 89 92',\n",
    "    '박지아 80 100 95 89 90'\n",
    "]\n",
    "data = ''\n",
    "for item in scores:\n",
    "    data = data+item +'\\n'\n",
    "print(data)\n",
    "\n",
    "#파일에 출력\n",
    "file=open('scores.txt','w')\n",
    "file.write(data)\n",
    "file.close()"
   ]
  },
  {
   "cell_type": "code",
   "execution_count": 19,
   "id": "82423581",
   "metadata": {
    "scrolled": true
   },
   "outputs": [
    {
     "name": "stdout",
     "output_type": "stream",
     "text": [
      "<class 'list'>\n",
      "['안소영 97 80 93 97 93\\n', '정예린 86 100 93 86 90\\n', '김세린 91 88 99 79 92\\n', '연수정 86 100 93 89 92\\n', '박지아 80 100 95 89 90\\n']\n",
      "안소영 97 80 93 97 93\n",
      "정예린 86 100 93 86 90\n",
      "김세린 91 88 99 79 92\n",
      "연수정 86 100 93 89 92\n",
      "박지아 80 100 95 89 90\n"
     ]
    }
   ],
   "source": [
    "file = open('scores.txt','r')\n",
    "lines = file.readlines()\n",
    "print(type(lines))\n",
    "print(lines)\n",
    "\n",
    "for line in lines:\n",
    "    print(line, end = '')\n",
    "\n",
    "file.close()"
   ]
  },
  {
   "cell_type": "markdown",
   "id": "d2d2a8e7",
   "metadata": {},
   "source": [
    "# Class"
   ]
  },
  {
   "cell_type": "markdown",
   "id": "15fd5202",
   "metadata": {},
   "source": [
    "class [className]:\n",
    "    변수 a\n",
    "    변수 b\n",
    "    ...\n",
    "    def method1():\n",
    "        문장 1\n",
    "        문장 2\n",
    "        ...\n",
    "    def method2():\n",
    "        문장 1\n",
    "        문장 2\n",
    "        ..."
   ]
  },
  {
   "cell_type": "code",
   "execution_count": 4,
   "id": "a48d6019",
   "metadata": {},
   "outputs": [],
   "source": [
    "class Fruit:\n",
    "    name = 'orange'\n",
    "    color = 'yellow'\n",
    "    \n",
    "    def taste(self):\n",
    "        print('새콤하다')\n",
    "    def vitamin(self):\n",
    "        print('비타민 C가 풍부하다')"
   ]
  },
  {
   "cell_type": "code",
   "execution_count": 8,
   "id": "d8e65f29",
   "metadata": {},
   "outputs": [
    {
     "name": "stdout",
     "output_type": "stream",
     "text": [
      "<__main__.Fruit object at 0x0000022390B931C0>\n",
      "<class '__main__.Fruit'>\n",
      "과일명 : orange\n",
      "색상 : yellow\n",
      "새콤하다\n",
      "비타민 C가 풍부하다\n"
     ]
    }
   ],
   "source": [
    "orange = Fruit()\n",
    "print(orange)\n",
    "print(type(orange))\n",
    "\n",
    "print('과일명 : {}'.format(orange.name))\n",
    "print('색상 : {}'.format(orange.color))\n",
    "orange.taste()\n",
    "orange.vitamin()"
   ]
  },
  {
   "cell_type": "markdown",
   "id": "e3b3fb2d",
   "metadata": {},
   "source": [
    "### c++ Programming에서의 Class\n",
    "\n",
    "class CParent{\n",
    "    int a = 10;\n",
    "    int b = 10;\n",
    "    #생성자\n",
    "    CParent(){cout << \"ctor\"<<endl;}\n",
    "    #사용자 정의 생성자\n",
    "    CParent(/*this*/,int a, int b){\n",
    "        #a=a; ?? => this->a 사용\n",
    "        #b=b; ?? => this->b 사용\n",
    "        this->a = a;\n",
    "        this->b = b;\n",
    "        cout << \"ctor\"<<endl;\n",
    "    }\n",
    "    void Age(this){    }\n",
    "    ~CParent(){cout << \"dtor\"<<endl;}\n",
    "}\n",
    "    "
   ]
  },
  {
   "cell_type": "code",
   "execution_count": 11,
   "id": "b69860d1",
   "metadata": {},
   "outputs": [
    {
     "name": "stdout",
     "output_type": "stream",
     "text": [
      "반지름 : 10\n",
      "원의 면적 : 314.16\n",
      "원주의 길이 : 62.83\n"
     ]
    }
   ],
   "source": [
    "class Circle:\n",
    "    radius = 10\n",
    "    \n",
    "    def getArea(self):\n",
    "        area = 3.141592 * (self.radius ** 2)\n",
    "        return area\n",
    "   \n",
    "    def getCircum(self):\n",
    "        circum = 2 * 3.141592 * self.radius\n",
    "        return circum\n",
    "    \n",
    "cir = Circle()\n",
    "\n",
    "print('반지름 : {}'.format(cir.radius))\n",
    "print('원의 면적 : {:.2f}'.format(cir.getArea()))\n",
    "print('원주의 길이 : {:.2f}'.format(cir.getCircum()))\n",
    "        "
   ]
  },
  {
   "cell_type": "code",
   "execution_count": 25,
   "id": "2093b4c0",
   "metadata": {},
   "outputs": [],
   "source": [
    "class Student:\n",
    "    name = '황재호'\n",
    "    kor = 80\n",
    "    eng = 90\n",
    "    math = 100\n",
    "    def getSum(self):\n",
    "        sum = self.kor + self.eng + self.math\n",
    "        return sum\n",
    "    def getAvg(self):\n",
    "        avg = self.getSum()/3\n",
    "        return avg"
   ]
  },
  {
   "cell_type": "code",
   "execution_count": 30,
   "id": "965c671b",
   "metadata": {},
   "outputs": [
    {
     "name": "stdout",
     "output_type": "stream",
     "text": [
      "이름 : 황재호\n",
      "국어 : 80\n",
      "영어 : 90\n",
      "수학 : 100\n",
      "합계 : 270.0\n",
      "평균 : 90.0\n"
     ]
    }
   ],
   "source": [
    "st = Student()\n",
    "\n",
    "print('이름 : {}'.format(st.name))\n",
    "print('국어 : {}'.format(st.kor))\n",
    "print('영어 : {}'.format(st.eng))\n",
    "print('수학 : {}'.format(st.math))\n",
    "print('합계 : {:.1f}'.format(st.getSum()))\n",
    "print('평균 : {:.1f}'.format(st.getAvg()))\n"
   ]
  },
  {
   "cell_type": "code",
   "execution_count": 34,
   "id": "fd522d7b",
   "metadata": {},
   "outputs": [],
   "source": [
    "#class 생성자\n",
    "class Student:\n",
    "    name = '황재호'\n",
    "    kor = 80\n",
    "    eng = 90\n",
    "    math = 100\n",
    "    \n",
    "    def __init__(self, name= '황재호', kor= 80, eng= 90, math= 100):     #매개변수에 값을 초기화 함으로 기본 생성자로 작동이 가능하게함\n",
    "        #코드 작성\n",
    "        self.name = name\n",
    "        self.kor = kor\n",
    "        self.eng = eng\n",
    "        self.math = math\n",
    "        \n",
    "    def getSum(self):\n",
    "        sum = self.kor + self.eng + self.math\n",
    "        return sum\n",
    "    \n",
    "    def getAvg(self):\n",
    "        avg = self.getSum()/3\n",
    "        return avg"
   ]
  },
  {
   "cell_type": "code",
   "execution_count": 36,
   "id": "32845794",
   "metadata": {},
   "outputs": [
    {
     "name": "stdout",
     "output_type": "stream",
     "text": [
      "이름 : 홍길동\n",
      "국어 : 85\n",
      "영어 : 93\n",
      "수학 : 98\n",
      "합계 : 276.0\n",
      "평균 : 92.0\n",
      "==================================================\n",
      "이름 : 황재호\n",
      "국어 : 80\n",
      "영어 : 90\n",
      "수학 : 100\n",
      "합계 : 270.0\n",
      "평균 : 90.0\n"
     ]
    }
   ],
   "source": [
    "st1 = Student('홍길동',85,93,98)\n",
    "st2 = Student()\n",
    "print('이름 : {}'.format(st1.name))\n",
    "print('국어 : {}'.format(st1.kor))\n",
    "print('영어 : {}'.format(st1.eng))\n",
    "print('수학 : {}'.format(st1.math))\n",
    "print('합계 : {:.1f}'.format(st1.getSum()))\n",
    "print('평균 : {:.1f}'.format(st1.getAvg()))\n",
    "print('='*50)\n",
    "print('이름 : {}'.format(st2.name))\n",
    "print('국어 : {}'.format(st2.kor))\n",
    "print('영어 : {}'.format(st2.eng))\n",
    "print('수학 : {}'.format(st2.math))\n",
    "print('합계 : {:.1f}'.format(st2.getSum()))\n",
    "print('평균 : {:.1f}'.format(st2.getAvg()))"
   ]
  },
  {
   "cell_type": "code",
   "execution_count": null,
   "id": "9113dc35",
   "metadata": {},
   "outputs": [],
   "source": []
  },
  {
   "cell_type": "code",
   "execution_count": null,
   "id": "e8243aaf",
   "metadata": {},
   "outputs": [],
   "source": []
  },
  {
   "cell_type": "code",
   "execution_count": null,
   "id": "a7849a20",
   "metadata": {},
   "outputs": [],
   "source": []
  },
  {
   "cell_type": "code",
   "execution_count": null,
   "id": "a329e72c",
   "metadata": {},
   "outputs": [],
   "source": []
  }
 ],
 "metadata": {
  "kernelspec": {
   "display_name": "Python 3 (ipykernel)",
   "language": "python",
   "name": "python3"
  },
  "language_info": {
   "codemirror_mode": {
    "name": "ipython",
    "version": 3
   },
   "file_extension": ".py",
   "mimetype": "text/x-python",
   "name": "python",
   "nbconvert_exporter": "python",
   "pygments_lexer": "ipython3",
   "version": "3.9.13"
  }
 },
 "nbformat": 4,
 "nbformat_minor": 5
}
